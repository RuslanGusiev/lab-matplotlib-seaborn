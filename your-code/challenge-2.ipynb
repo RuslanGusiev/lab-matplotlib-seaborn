{
 "cells": [
  {
   "cell_type": "markdown",
   "metadata": {},
   "source": [
    "# Challenge 2"
   ]
  },
  {
   "cell_type": "markdown",
   "metadata": {},
   "source": [
    "In this lab you will partner with another student to conduct **[pair programming](https://en.wikipedia.org/wiki/Pair_programming)**. In the next 60 minutes there will be 2 coding sessions of 30 minutes each. In each sessoin, one student will be the **driver** to write the code to solve the problem while the other student will be the **observer** to watch and review. There will be several iterations of your code because the observer will help the driver review the codes and make improvements until the 15 minute session ends. After the coding session ends, the driver and observer will switch roles."
   ]
  },
  {
   "cell_type": "markdown",
   "metadata": {},
   "source": [
    "#### Import all the libraries that are necessary"
   ]
  },
  {
   "cell_type": "code",
   "execution_count": 1,
   "metadata": {},
   "outputs": [],
   "source": [
    "# import libraries here\n",
    "import pandas as pd\n",
    "import numpy as np\n",
    "import matplotlib.pyplot as plt\n",
    "import seaborn as sns\n",
    "%matplotlib inline\n"
   ]
  },
  {
   "cell_type": "markdown",
   "metadata": {},
   "source": [
    "## Preparation\n",
    "\n",
    "#### Import the `Fitbit2.csv` file and name your dataset `fitbit`"
   ]
  },
  {
   "cell_type": "code",
   "execution_count": 2,
   "metadata": {},
   "outputs": [
    {
     "data": {
      "text/html": [
       "<div>\n",
       "<style scoped>\n",
       "    .dataframe tbody tr th:only-of-type {\n",
       "        vertical-align: middle;\n",
       "    }\n",
       "\n",
       "    .dataframe tbody tr th {\n",
       "        vertical-align: top;\n",
       "    }\n",
       "\n",
       "    .dataframe thead th {\n",
       "        text-align: right;\n",
       "    }\n",
       "</style>\n",
       "<table border=\"1\" class=\"dataframe\">\n",
       "  <thead>\n",
       "    <tr style=\"text-align: right;\">\n",
       "      <th></th>\n",
       "      <th>Date</th>\n",
       "      <th>Calorie burned</th>\n",
       "      <th>Steps</th>\n",
       "      <th>Distance</th>\n",
       "      <th>Floors</th>\n",
       "      <th>Minutes Sedentary</th>\n",
       "      <th>Minutes Lightly Active</th>\n",
       "      <th>Minutes Fairly Active</th>\n",
       "      <th>Minutes Very Active</th>\n",
       "      <th>Activity Calories</th>\n",
       "      <th>...</th>\n",
       "      <th>Distance_miles</th>\n",
       "      <th>Days</th>\n",
       "      <th>Days_encoded</th>\n",
       "      <th>Work_or_Weekend</th>\n",
       "      <th>Hours Sleep</th>\n",
       "      <th>Sleep efficiency</th>\n",
       "      <th>Yesterday_sleep</th>\n",
       "      <th>Yesterday_sleep_efficiency</th>\n",
       "      <th>Months</th>\n",
       "      <th>Months_encoded</th>\n",
       "    </tr>\n",
       "  </thead>\n",
       "  <tbody>\n",
       "    <tr>\n",
       "      <th>0</th>\n",
       "      <td>2015-05-08</td>\n",
       "      <td>1934</td>\n",
       "      <td>905</td>\n",
       "      <td>0.65</td>\n",
       "      <td>0</td>\n",
       "      <td>1.355</td>\n",
       "      <td>46</td>\n",
       "      <td>0</td>\n",
       "      <td>0</td>\n",
       "      <td>1680</td>\n",
       "      <td>...</td>\n",
       "      <td>0.403891</td>\n",
       "      <td>Friday</td>\n",
       "      <td>4.0</td>\n",
       "      <td>1</td>\n",
       "      <td>6.400000</td>\n",
       "      <td>92.086331</td>\n",
       "      <td>0.000000</td>\n",
       "      <td>0.000000</td>\n",
       "      <td>May</td>\n",
       "      <td>5</td>\n",
       "    </tr>\n",
       "    <tr>\n",
       "      <th>1</th>\n",
       "      <td>2015-05-09</td>\n",
       "      <td>3631</td>\n",
       "      <td>18925</td>\n",
       "      <td>14.11</td>\n",
       "      <td>4</td>\n",
       "      <td>611.000</td>\n",
       "      <td>316</td>\n",
       "      <td>61</td>\n",
       "      <td>60</td>\n",
       "      <td>2248</td>\n",
       "      <td>...</td>\n",
       "      <td>8.767545</td>\n",
       "      <td>Saturday</td>\n",
       "      <td>5.0</td>\n",
       "      <td>0</td>\n",
       "      <td>7.566667</td>\n",
       "      <td>92.464358</td>\n",
       "      <td>6.400000</td>\n",
       "      <td>92.086331</td>\n",
       "      <td>May</td>\n",
       "      <td>5</td>\n",
       "    </tr>\n",
       "    <tr>\n",
       "      <th>2</th>\n",
       "      <td>2015-05-10</td>\n",
       "      <td>3204</td>\n",
       "      <td>14228</td>\n",
       "      <td>10.57</td>\n",
       "      <td>1</td>\n",
       "      <td>602.000</td>\n",
       "      <td>226</td>\n",
       "      <td>14</td>\n",
       "      <td>77</td>\n",
       "      <td>1719</td>\n",
       "      <td>...</td>\n",
       "      <td>6.567891</td>\n",
       "      <td>Sunday</td>\n",
       "      <td>6.0</td>\n",
       "      <td>0</td>\n",
       "      <td>6.450000</td>\n",
       "      <td>88.761468</td>\n",
       "      <td>7.566667</td>\n",
       "      <td>92.464358</td>\n",
       "      <td>May</td>\n",
       "      <td>5</td>\n",
       "    </tr>\n",
       "    <tr>\n",
       "      <th>3</th>\n",
       "      <td>2015-05-11</td>\n",
       "      <td>2673</td>\n",
       "      <td>6756</td>\n",
       "      <td>5.02</td>\n",
       "      <td>8</td>\n",
       "      <td>749.000</td>\n",
       "      <td>190</td>\n",
       "      <td>23</td>\n",
       "      <td>4</td>\n",
       "      <td>9620</td>\n",
       "      <td>...</td>\n",
       "      <td>3.119282</td>\n",
       "      <td>Monday</td>\n",
       "      <td>0.0</td>\n",
       "      <td>1</td>\n",
       "      <td>5.183333</td>\n",
       "      <td>88.857143</td>\n",
       "      <td>6.450000</td>\n",
       "      <td>88.761468</td>\n",
       "      <td>May</td>\n",
       "      <td>5</td>\n",
       "    </tr>\n",
       "    <tr>\n",
       "      <th>4</th>\n",
       "      <td>2015-05-12</td>\n",
       "      <td>2495</td>\n",
       "      <td>502</td>\n",
       "      <td>3.73</td>\n",
       "      <td>1</td>\n",
       "      <td>876.000</td>\n",
       "      <td>171</td>\n",
       "      <td>0</td>\n",
       "      <td>0</td>\n",
       "      <td>7360</td>\n",
       "      <td>...</td>\n",
       "      <td>2.317714</td>\n",
       "      <td>Tuesday</td>\n",
       "      <td>1.0</td>\n",
       "      <td>1</td>\n",
       "      <td>6.783333</td>\n",
       "      <td>82.892057</td>\n",
       "      <td>5.183333</td>\n",
       "      <td>88.857143</td>\n",
       "      <td>May</td>\n",
       "      <td>5</td>\n",
       "    </tr>\n",
       "  </tbody>\n",
       "</table>\n",
       "<p>5 rows × 24 columns</p>\n",
       "</div>"
      ],
      "text/plain": [
       "         Date  Calorie burned  Steps  Distance  Floors  Minutes Sedentary  \\\n",
       "0  2015-05-08            1934    905      0.65       0              1.355   \n",
       "1  2015-05-09            3631  18925     14.11       4            611.000   \n",
       "2  2015-05-10            3204  14228     10.57       1            602.000   \n",
       "3  2015-05-11            2673   6756      5.02       8            749.000   \n",
       "4  2015-05-12            2495    502      3.73       1            876.000   \n",
       "\n",
       "   Minutes Lightly Active  Minutes Fairly Active  Minutes Very Active  \\\n",
       "0                      46                      0                    0   \n",
       "1                     316                     61                   60   \n",
       "2                     226                     14                   77   \n",
       "3                     190                     23                    4   \n",
       "4                     171                      0                    0   \n",
       "\n",
       "   Activity Calories  ...  Distance_miles      Days  Days_encoded  \\\n",
       "0               1680  ...        0.403891    Friday           4.0   \n",
       "1               2248  ...        8.767545  Saturday           5.0   \n",
       "2               1719  ...        6.567891    Sunday           6.0   \n",
       "3               9620  ...        3.119282    Monday           0.0   \n",
       "4               7360  ...        2.317714   Tuesday           1.0   \n",
       "\n",
       "   Work_or_Weekend  Hours Sleep Sleep efficiency  Yesterday_sleep  \\\n",
       "0                1     6.400000        92.086331         0.000000   \n",
       "1                0     7.566667        92.464358         6.400000   \n",
       "2                0     6.450000        88.761468         7.566667   \n",
       "3                1     5.183333        88.857143         6.450000   \n",
       "4                1     6.783333        82.892057         5.183333   \n",
       "\n",
       "   Yesterday_sleep_efficiency  Months  Months_encoded  \n",
       "0                    0.000000     May               5  \n",
       "1                   92.086331     May               5  \n",
       "2                   92.464358     May               5  \n",
       "3                   88.761468     May               5  \n",
       "4                   88.857143     May               5  \n",
       "\n",
       "[5 rows x 24 columns]"
      ]
     },
     "execution_count": 2,
     "metadata": {},
     "output_type": "execute_result"
    }
   ],
   "source": [
    "fitbit=pd.read_csv('Fitbit2.csv')\n",
    "\n",
    "fitbit.head()"
   ]
  },
  {
   "cell_type": "markdown",
   "metadata": {},
   "source": [
    "## Coding Session I - 30 minutes\n",
    "\n",
    "From the Fitbit data, we want to visually understand: \n",
    "\n",
    "1. **How the average number of steps change by month. Use the appropriate visualization to show the median steps by month?**\n",
    "1. **Is Fitbitter more active on weekend or workdays?**\n",
    "\n",
    "##### All plots must be in the same jupyter notebook cell.\n",
    "\n",
    "Hints:\n",
    "\n",
    "- Use `Months_encoded` and `Week_or Weekend` columns\n",
    "- Use `matplolib.pyplot` object oriented API\n",
    "- Set your size figure to `12,4`\n",
    "- Explore `plt.sca`\n",
    "- Explore `plt.xticks`\n",
    "- Save your figures"
   ]
  },
  {
   "cell_type": "code",
<<<<<<< HEAD
   "execution_count": 9,
   "metadata": {},
   "outputs": [
    {
     "data": {
      "text/plain": [
       "Work_or_Weekend\n",
       "0    10064.0\n",
       "1    10145.0\n",
       "Name: Steps, dtype: float64"
      ]
     },
     "execution_count": 9,
     "metadata": {},
     "output_type": "execute_result"
=======
   "execution_count": 10,
   "metadata": {},
   "outputs": [
    {
     "ename": "SyntaxError",
     "evalue": "invalid syntax (<ipython-input-10-1acd871738af>, line 10)",
     "output_type": "error",
     "traceback": [
      "\u001b[0;36m  File \u001b[0;32m\"<ipython-input-10-1acd871738af>\"\u001b[0;36m, line \u001b[0;32m10\u001b[0m\n\u001b[0;31m    weekend_workdays = round(fitbit.groupby(fitbit['Work_or_Weekend'])['Steps'.mean().sort_values(), 0)\u001b[0m\n\u001b[0m                                                                                                      ^\u001b[0m\n\u001b[0;31mSyntaxError\u001b[0m\u001b[0;31m:\u001b[0m invalid syntax\n"
     ]
>>>>>>> 9ac2a9078448e00ae78004eef529ca4ec4d4fe19
    }
   ],
   "source": [
    "# Driver 1 enter codes here\n",
    "'''\n",
    "L.S. Does not work. \n",
    "'''\n",
    "\n",
    "# average number of steps change by month\n",
    "median_steps = round(fitbit['Steps'].groupby(fitbit['Months_encoded']).mean(), 0)\n",
    "median_steps\n",
    "#more active on weekend or workdays\n",
    "weekend_workdays = round(fitbit.groupby('Work_or_Weekend')['Steps'].mean().sort_values(), 0)\n",
    "weekend_workdays"
   ]
  },
  {
   "cell_type": "code",
<<<<<<< HEAD
   "execution_count": 10,
=======
   "execution_count": 11,
>>>>>>> 9ac2a9078448e00ae78004eef529ca4ec4d4fe19
   "metadata": {},
   "outputs": [
    {
     "ename": "NameError",
     "evalue": "name 'weekend_workdays' is not defined",
     "output_type": "error",
     "traceback": [
      "\u001b[0;31m---------------------------------------------------------------------------\u001b[0m",
      "\u001b[0;31mNameError\u001b[0m                                 Traceback (most recent call last)",
      "\u001b[0;32m<ipython-input-11-fe2acd82073b>\u001b[0m in \u001b[0;36m<module>\u001b[0;34m\u001b[0m\n\u001b[1;32m      7\u001b[0m \u001b[0;34m\u001b[0m\u001b[0m\n\u001b[1;32m      8\u001b[0m \u001b[0mplt\u001b[0m\u001b[0;34m.\u001b[0m\u001b[0msca\u001b[0m\u001b[0;34m(\u001b[0m\u001b[0max2\u001b[0m\u001b[0;34m)\u001b[0m\u001b[0;34m\u001b[0m\u001b[0;34m\u001b[0m\u001b[0m\n\u001b[0;32m----> 9\u001b[0;31m \u001b[0max2\u001b[0m \u001b[0;34m=\u001b[0m \u001b[0mweekend_workdays\u001b[0m\u001b[0;34m.\u001b[0m\u001b[0mplot\u001b[0m\u001b[0;34m(\u001b[0m\u001b[0mkind\u001b[0m\u001b[0;34m=\u001b[0m\u001b[0;34m'bar'\u001b[0m\u001b[0;34m,\u001b[0m \u001b[0mcolor\u001b[0m \u001b[0;34m=\u001b[0m \u001b[0;34m[\u001b[0m\u001b[0;34m'r'\u001b[0m\u001b[0;34m,\u001b[0m\u001b[0;34m'b'\u001b[0m\u001b[0;34m]\u001b[0m\u001b[0;34m)\u001b[0m\u001b[0;34m\u001b[0m\u001b[0;34m\u001b[0m\u001b[0m\n\u001b[0m\u001b[1;32m     10\u001b[0m \u001b[0mplt\u001b[0m\u001b[0;34m.\u001b[0m\u001b[0mxticks\u001b[0m\u001b[0;34m(\u001b[0m\u001b[0mlist\u001b[0m\u001b[0;34m(\u001b[0m\u001b[0mrange\u001b[0m\u001b[0;34m(\u001b[0m\u001b[0;36m2\u001b[0m\u001b[0;34m)\u001b[0m\u001b[0;34m)\u001b[0m\u001b[0;34m,\u001b[0m\u001b[0;34m[\u001b[0m\u001b[0;34m'Weekend'\u001b[0m\u001b[0;34m,\u001b[0m\u001b[0;34m'Workdays'\u001b[0m\u001b[0;34m]\u001b[0m\u001b[0;34m,\u001b[0m \u001b[0mrotation\u001b[0m\u001b[0;34m=\u001b[0m\u001b[0;36m0\u001b[0m\u001b[0;34m)\u001b[0m\u001b[0;34m\u001b[0m\u001b[0;34m\u001b[0m\u001b[0m\n\u001b[1;32m     11\u001b[0m \u001b[0mplt\u001b[0m\u001b[0;34m.\u001b[0m\u001b[0msavefig\u001b[0m\u001b[0;34m(\u001b[0m\u001b[0;34m'Steps.png'\u001b[0m\u001b[0;34m)\u001b[0m\u001b[0;34m\u001b[0m\u001b[0;34m\u001b[0m\u001b[0m\n",
      "\u001b[0;31mNameError\u001b[0m: name 'weekend_workdays' is not defined"
     ]
    },
    {
     "data": {
      "image/png": "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\n",
      "text/plain": [
       "<Figure size 864x288 with 2 Axes>"
      ]
     },
     "metadata": {
      "needs_background": "light"
     },
     "output_type": "display_data"
    }
   ],
   "source": [
    "'''\n",
    "L.S. Does not work either. \n",
    "'''\n",
    "\n",
    "fig, [ax1, ax2] = plt.subplots(nrows=1, ncols=2, figsize=(12,4))\n",
    "\n",
    "\n",
    "plt.sca(ax1)\n",
    "ax1 = median_steps.plot(lw=3,color='r')\n",
    "plt.xticks(np.arange(14), ['', 'Jan','Feb','Mar','Apr','May','Jun','Jul','Aug','Sep','Oct','Nov','Dec'])\n",
    "\n",
    "plt.sca(ax2)\n",
    "ax2 = weekend_workdays.plot(kind='bar', color = ['r','b'])\n",
    "plt.xticks(list(range(2)),['Weekend','Workdays'], rotation=0)\n",
    "plt.savefig('Steps.png')"
   ]
  },
  {
   "cell_type": "markdown",
   "metadata": {},
   "source": [
    "## Coding Session II - 30 minutes\n",
    "\n",
    "**Write a loop to plot 3 scatter plots of the following features:**\n",
    "\n",
    "1. **`Minutes Lightly Active`  vs `Steps`**\n",
    "1. **`Minutes Very Active` vs `Steps`**\n",
    "1. **`Minutes Sedentary` vs `Steps`**"
   ]
  },
  {
   "cell_type": "code",
   "execution_count": 16,
   "metadata": {},
   "outputs": [
    {
     "data": {
      "image/png": "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\n",
      "text/plain": [
       "<Figure size 432x288 with 1 Axes>"
      ]
     },
     "metadata": {
      "needs_background": "light"
     },
     "output_type": "display_data"
    }
   ],
   "source": [
    "# Driver 2 enter codes here\n",
    "x = [\"Minutes Lightly Active\", \"Minutes Very Active\", \"Minutes Sedentary\"]\n",
    "y = fitbit.Steps\n",
    "for i in x:\n",
    "    plt.scatter(fitbit[i], y)"
   ]
  },
  {
   "cell_type": "code",
   "execution_count": null,
   "metadata": {},
   "outputs": [],
   "source": []
  }
 ],
 "metadata": {
  "kernelspec": {
   "display_name": "Python 3",
   "language": "python",
   "name": "python3"
  },
  "language_info": {
   "codemirror_mode": {
    "name": "ipython",
    "version": 3
   },
   "file_extension": ".py",
   "mimetype": "text/x-python",
   "name": "python",
   "nbconvert_exporter": "python",
   "pygments_lexer": "ipython3",
   "version": "3.6.7"
  }
 },
 "nbformat": 4,
 "nbformat_minor": 2
}
